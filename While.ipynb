{
 "cells": [
  {
   "cell_type": "markdown",
   "id": "76d6a289",
   "metadata": {},
   "source": [
    "While"
   ]
  },
  {
   "cell_type": "code",
   "execution_count": 1,
   "id": "0c3f39fd",
   "metadata": {},
   "outputs": [],
   "source": [
    "# angka = int(input())\n",
    "\n",
    "# while (angka < 3):\n",
    "#     print(\"bilangan\")"
   ]
  },
  {
   "cell_type": "code",
   "execution_count": 2,
   "id": "378df852",
   "metadata": {},
   "outputs": [
    {
     "name": "stdout",
     "output_type": "stream",
     "text": [
      "2\n",
      "bilangan 2\n"
     ]
    }
   ],
   "source": [
    "angka =  int(input())\n",
    "\n",
    "while (angka < 3):\n",
    "    print(\"bilangan {}\".format(angka))\n",
    "    angka = angka + 1"
   ]
  },
  {
   "cell_type": "code",
   "execution_count": 3,
   "id": "f7a52b80",
   "metadata": {},
   "outputs": [
    {
     "name": "stdout",
     "output_type": "stream",
     "text": [
      "6\n",
      "bilangan 6\n",
      "bilangan 8\n"
     ]
    }
   ],
   "source": [
    "angka =  int(input())\n",
    "\n",
    "while (angka < 10):\n",
    "    print(\"bilangan {}\".format(angka))\n",
    "    angka = angka + 2"
   ]
  },
  {
   "cell_type": "markdown",
   "id": "b935a058",
   "metadata": {},
   "source": [
    "Task 1 (while)"
   ]
  },
  {
   "cell_type": "code",
   "execution_count": 4,
   "id": "446b0e98",
   "metadata": {},
   "outputs": [
    {
     "name": "stdout",
     "output_type": "stream",
     "text": [
      "11\n",
      "bilangan 11\n",
      "bilangan 13\n"
     ]
    }
   ],
   "source": [
    "x =  int(input())\n",
    "\n",
    "while (x < 15):\n",
    "    print(\"bilangan {}\".format(x))\n",
    "    x = x + 2"
   ]
  },
  {
   "cell_type": "markdown",
   "id": "0eb79748",
   "metadata": {},
   "source": [
    "Else setelah While\n",
    "\n",
    "< (kurang dari)"
   ]
  },
  {
   "cell_type": "code",
   "execution_count": 5,
   "id": "c87c3a19",
   "metadata": {},
   "outputs": [
    {
     "name": "stdout",
     "output_type": "stream",
     "text": [
      "4\n"
     ]
    }
   ],
   "source": [
    "angka =  int(input())\n",
    "\n",
    "while (angka < 10):\n",
    "    angka = angka + 2\n",
    "    if angka == 6:\n",
    "        break\n",
    "    print(angka)\n",
    "else:\n",
    "    print(\"loop selesai\")"
   ]
  },
  {
   "cell_type": "markdown",
   "id": "f3451d60",
   "metadata": {},
   "source": [
    "Task 2 (buat while(else), if, elif, else)"
   ]
  },
  {
   "cell_type": "code",
   "execution_count": 6,
   "id": "5fe7d75a",
   "metadata": {},
   "outputs": [
    {
     "name": "stdout",
     "output_type": "stream",
     "text": [
      "2\n",
      "Hari ke-2: Senin\n"
     ]
    }
   ],
   "source": [
    "hari = int(input())\n",
    "while 1<= hari <= 7:\n",
    "    if hari == 1:\n",
    "        print(\"Hari ke-1: Minggu\")\n",
    "        break\n",
    "    elif hari == 2:\n",
    "        print(\"Hari ke-2: Senin\")\n",
    "        break\n",
    "    elif hari == 3:\n",
    "        print(\"Hari ke-3: Selasa\")\n",
    "        break\n",
    "    elif hari == 4:\n",
    "        print(\"Hari ke-4: Rabu\")\n",
    "        break\n",
    "    elif hari == 5:\n",
    "        print(\"Hari ke-5: Kamis\")\n",
    "        break\n",
    "    elif hari == 6:\n",
    "        print(\"Hari ke-6: Jumat\")\n",
    "        break\n",
    "    else:\n",
    "        print(\"Hari ke-7: Sabtu\")\n",
    "        break\n",
    "    \n",
    "    hari += 1\n",
    "else:\n",
    "    print(\"Loop selesai\")"
   ]
  },
  {
   "cell_type": "markdown",
   "id": "dc3a8322",
   "metadata": {},
   "source": [
    "> (lebih dari)"
   ]
  },
  {
   "cell_type": "code",
   "execution_count": 7,
   "id": "a986af88",
   "metadata": {},
   "outputs": [
    {
     "name": "stdout",
     "output_type": "stream",
     "text": [
      "5\n",
      "3\n",
      "1\n",
      "-1\n",
      "loop selesai\n"
     ]
    }
   ],
   "source": [
    "angka =  int(input())\n",
    "\n",
    "while (angka > 0):\n",
    "    angka = angka - 2\n",
    "    print(angka)\n",
    "else:\n",
    "    print(\"loop selesai\")"
   ]
  },
  {
   "cell_type": "markdown",
   "id": "a895fe2a",
   "metadata": {},
   "source": [
    "Task 3 (while >)"
   ]
  },
  {
   "cell_type": "code",
   "execution_count": null,
   "id": "9adf32cf",
   "metadata": {},
   "outputs": [],
   "source": [
    "nilai =  int(input())\n",
    "\n",
    "while (nilai > 700):\n",
    "    nilai = nilai - 2\n",
    "    print(nilai)\n",
    "else:\n",
    "    print(\"loop selesai\")"
   ]
  },
  {
   "cell_type": "markdown",
   "id": "f083b101",
   "metadata": {},
   "source": [
    "Task 4 (bikin logic if else hackerrank)"
   ]
  },
  {
   "cell_type": "code",
   "execution_count": null,
   "id": "218ae7f7",
   "metadata": {},
   "outputs": [],
   "source": [
    "if __name__ == '__main__':\n",
    "    n = int(input().strip())\n",
    "    if n%2 != 0:\n",
    "        print(\"Nilai A\")\n",
    "    else:\n",
    "        if (50<= n <=65):\n",
    "            print(\"Nilai C\")\n",
    "        elif(65<= n <=80):\n",
    "            print(\"Nilai B\")\n",
    "        elif(80< n <=100):\n",
    "            print(\"Nilai A\")"
   ]
  },
  {
   "cell_type": "code",
   "execution_count": null,
   "id": "6b083894",
   "metadata": {},
   "outputs": [],
   "source": [
    "x = int(input())\n",
    "while 0< x <20:\n",
    "    if x == 2 or x == 3 or x == 5 or x == 7:\n",
    "        print(\"bilangan prima\")\n",
    "        break\n",
    "    elif x%2 == 0:\n",
    "        print(\"bukan bilangan prima\")\n",
    "        break\n",
    "    else:\n",
    "        if x%3 == 0:\n",
    "            print(\"bukan bilangan prima\")\n",
    "            break\n",
    "        elif x%5 == 0:\n",
    "            print(\"bukan bilangan prima\")\n",
    "            break\n",
    "        elif x%7 == 0:\n",
    "            print(\"bukan bilangan prima\")\n",
    "            break\n",
    "        else:\n",
    "            print(\"bilangan prima\")\n",
    "            break"
   ]
  }
 ],
 "metadata": {
  "kernelspec": {
   "display_name": "Python 3 (ipykernel)",
   "language": "python",
   "name": "python3"
  },
  "language_info": {
   "codemirror_mode": {
    "name": "ipython",
    "version": 3
   },
   "file_extension": ".py",
   "mimetype": "text/x-python",
   "name": "python",
   "nbconvert_exporter": "python",
   "pygments_lexer": "ipython3",
   "version": "3.11.4"
  }
 },
 "nbformat": 4,
 "nbformat_minor": 5
}
