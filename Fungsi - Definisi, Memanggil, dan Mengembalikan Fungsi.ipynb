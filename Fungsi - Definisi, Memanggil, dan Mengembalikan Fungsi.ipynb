{
 "cells": [
  {
   "cell_type": "markdown",
   "id": "2c3da6b9",
   "metadata": {},
   "source": [
    "Fungsi\n",
    "\n",
    "• Di matematika, fungsi adalah proses yang merelasikan antara sebuah masukan (input) dan keluaran (output).\n",
    "• Pada python, selain fungsi relasi tersebut, fungsi juga adalah salah satu cara untuk mengorganisasikan kode - dengan tujuan akhir kode dapat digunakan kembali (reusability).\n",
    "• Sebaiknya fungsi hanya memiliki satu kegunaan spesifik namun dapat digunakan kembali.\n",
    "• Fungsi-fungsi umum telah disediakan oleh Python.\n",
    "Namun kita dapat mendifinisikan fungsi kita sendiri.\n",
    "\n",
    "Mendefinisikan fungsi\n",
    "\n",
    "• Fungsi didefinisikan dengan keyword def diikuti dengan nama fungsi dan parameternya dalam kurung ()\n",
    "• Secara opsional, Anda dapat menambahkan docstring - string dokumentasi yang menjelaskan konteks fungsi.\n",
    "• Blok kode dalam setiap fungsi dimulai dengan titik dua dan menggunakan indentasi.\n",
    "• Fungsi berhenti ketika terdapat statement return [expression] yang mengembalikan [expression] kepada pemanggilnya.\n",
    "• Anda juga bisa membuat fungsi tidak mengembalikan keluaran dengan return None."
   ]
  },
  {
   "cell_type": "code",
   "execution_count": 1,
   "id": "04a3908b",
   "metadata": {},
   "outputs": [],
   "source": [
    "def pangkat(x):\n",
    "    kuadrat = x**2 #fungsi pangkat dua\n",
    "    return kuadrat"
   ]
  },
  {
   "cell_type": "code",
   "execution_count": 2,
   "id": "879ff064",
   "metadata": {},
   "outputs": [
    {
     "data": {
      "text/plain": [
       "25"
      ]
     },
     "execution_count": 2,
     "metadata": {},
     "output_type": "execute_result"
    }
   ],
   "source": [
    "pangkat(5)"
   ]
  },
  {
   "cell_type": "code",
   "execution_count": 3,
   "id": "d26dbda8",
   "metadata": {},
   "outputs": [
    {
     "data": {
      "text/plain": [
       "9"
      ]
     },
     "execution_count": 3,
     "metadata": {},
     "output_type": "execute_result"
    }
   ],
   "source": [
    "pangkat(3)"
   ]
  },
  {
   "cell_type": "code",
   "execution_count": 4,
   "id": "fbbce96b",
   "metadata": {},
   "outputs": [],
   "source": [
    "def pangkat_tiga(x):\n",
    "    kubik = x**3 #fungsi pangkat tiga\n",
    "    print(kubik)"
   ]
  },
  {
   "cell_type": "code",
   "execution_count": 5,
   "id": "622ca07f",
   "metadata": {},
   "outputs": [
    {
     "name": "stdout",
     "output_type": "stream",
     "text": [
      "8\n"
     ]
    }
   ],
   "source": [
    "pangkat_tiga(2)"
   ]
  },
  {
   "cell_type": "markdown",
   "id": "a404e67b",
   "metadata": {},
   "source": [
    "Task 1 (bikin function)"
   ]
  },
  {
   "cell_type": "code",
   "execution_count": 6,
   "id": "4db6b251",
   "metadata": {},
   "outputs": [],
   "source": [
    "def nama_hari(nomor_hari):\n",
    "    hari = [\"Minggu\", \"Senin\", \"Selasa\", \"Rabu\", \"Kamis\", \"Jumat\", \"Sabtu\"]\n",
    "    if 1 <= nomor_hari <= 7:\n",
    "        return hari[nomor_hari - 1]\n",
    "    else:\n",
    "        return \"Nomor hari tidak valid\""
   ]
  },
  {
   "cell_type": "code",
   "execution_count": 7,
   "id": "77950311",
   "metadata": {},
   "outputs": [
    {
     "name": "stdout",
     "output_type": "stream",
     "text": [
      "Hari ke-3 adalah Selasa\n"
     ]
    }
   ],
   "source": [
    "nomor_hari = 3\n",
    "print(f\"Hari ke-{nomor_hari} adalah {nama_hari(nomor_hari)}\")"
   ]
  },
  {
   "cell_type": "code",
   "execution_count": 8,
   "id": "d583e186",
   "metadata": {},
   "outputs": [],
   "source": [
    "#kurs mata uang rupiah ke dolar\n",
    "def kurs_uang(x):\n",
    "    kurs = x*0.000065\n",
    "    print(\"$\",kurs)"
   ]
  },
  {
   "cell_type": "code",
   "execution_count": 9,
   "id": "522bcfc2",
   "metadata": {},
   "outputs": [
    {
     "name": "stdout",
     "output_type": "stream",
     "text": [
      "$ 0.9099999999999999\n"
     ]
    }
   ],
   "source": [
    "kurs_uang(14000)"
   ]
  },
  {
   "cell_type": "code",
   "execution_count": 10,
   "id": "d448db12",
   "metadata": {},
   "outputs": [],
   "source": [
    "def bilangan_ganjil_ke(x):\n",
    "    ganjil = 2*x-1\n",
    "    print(ganjil)"
   ]
  },
  {
   "cell_type": "code",
   "execution_count": 11,
   "id": "43dbb3ec",
   "metadata": {},
   "outputs": [
    {
     "name": "stdout",
     "output_type": "stream",
     "text": [
      "9\n"
     ]
    }
   ],
   "source": [
    "bilangan_ganjil_ke(5)"
   ]
  },
  {
   "cell_type": "markdown",
   "id": "8ec8e6b9",
   "metadata": {},
   "source": [
    "Secara default, Python akan memposisikan setiap parameter sesuai dengan urutan pendaftaran pada saat didefinisikan, dan harus dipanggil sesuai dengan urutan tersebut."
   ]
  },
  {
   "cell_type": "code",
   "execution_count": 12,
   "id": "5a378246",
   "metadata": {},
   "outputs": [],
   "source": [
    "def nama(x):\n",
    "    halo = \"Hai {}\".format(x)\n",
    "    return halo"
   ]
  },
  {
   "cell_type": "code",
   "execution_count": 13,
   "id": "bdc0be81",
   "metadata": {},
   "outputs": [
    {
     "data": {
      "text/plain": [
       "'Hai Nirmala'"
      ]
     },
     "execution_count": 13,
     "metadata": {},
     "output_type": "execute_result"
    }
   ],
   "source": [
    "nama(\"Nirmala\")"
   ]
  },
  {
   "cell_type": "code",
   "execution_count": 14,
   "id": "9706468f",
   "metadata": {},
   "outputs": [
    {
     "data": {
      "text/plain": [
       "'Hai Kelompok 5'"
      ]
     },
     "execution_count": 14,
     "metadata": {},
     "output_type": "execute_result"
    }
   ],
   "source": [
    "nama(\"Kelompok 5\")"
   ]
  },
  {
   "cell_type": "markdown",
   "id": "795a4f57",
   "metadata": {},
   "source": [
    "Return"
   ]
  },
  {
   "cell_type": "markdown",
   "id": "b40c1290",
   "metadata": {},
   "source": [
    "Pernyataan return (expression) akan membuat eksekusi program keluar dari funsgi saat itu, sekaligus mengembalikan nilai tertentu"
   ]
  },
  {
   "cell_type": "code",
   "execution_count": 15,
   "id": "77ae08c3",
   "metadata": {},
   "outputs": [],
   "source": [
    "def tambah(x,y):\n",
    "    plus = x + y #fungsi penjumlahan\n",
    "    print(\"Hasil penjumlahan adalah {}\".format(plus))\n",
    "    return plus"
   ]
  },
  {
   "cell_type": "code",
   "execution_count": 16,
   "id": "4872e685",
   "metadata": {},
   "outputs": [
    {
     "name": "stdout",
     "output_type": "stream",
     "text": [
      "Hasil penjumlahan adalah 5\n"
     ]
    },
    {
     "data": {
      "text/plain": [
       "5"
      ]
     },
     "execution_count": 16,
     "metadata": {},
     "output_type": "execute_result"
    }
   ],
   "source": [
    "tambah(2,3)"
   ]
  },
  {
   "cell_type": "code",
   "execution_count": 17,
   "id": "ee0c1a9f",
   "metadata": {},
   "outputs": [
    {
     "name": "stdout",
     "output_type": "stream",
     "text": [
      "Hasil penjumlahan adalah 5\n",
      "Hasil dari return adalah 5\n"
     ]
    }
   ],
   "source": [
    "output = tambah(2,3)\n",
    "print(\"Hasil dari return adalah {}\".format(output))"
   ]
  },
  {
   "cell_type": "markdown",
   "id": "d9afac9b",
   "metadata": {},
   "source": [
    "Task 2 (bikin 1 function dua parameter), dua rumus)"
   ]
  },
  {
   "cell_type": "code",
   "execution_count": 27,
   "id": "5357402f",
   "metadata": {},
   "outputs": [],
   "source": [
    "def random_number(x,y):\n",
    "    x = 5*x + 1\n",
    "    y = 4*y - 2\n",
    "    tambah = x + y\n",
    "    return (x+y)"
   ]
  },
  {
   "cell_type": "code",
   "execution_count": 28,
   "id": "fffb5f6b",
   "metadata": {},
   "outputs": [
    {
     "data": {
      "text/plain": [
       "30"
      ]
     },
     "execution_count": 28,
     "metadata": {},
     "output_type": "execute_result"
    }
   ],
   "source": [
    "random_number(3,4)"
   ]
  },
  {
   "cell_type": "code",
   "execution_count": 20,
   "id": "a3f5faa0",
   "metadata": {},
   "outputs": [],
   "source": [
    "def operasi_aritmetika_lain(angka1, angka2):\n",
    "    hasil_pembagian = angka1 / angka2\n",
    "    hasil_perkalian = angka1 * angka2\n",
    "    return hasil_pembagian, hasil_perkalian"
   ]
  },
  {
   "cell_type": "code",
   "execution_count": 26,
   "id": "d4d30bca",
   "metadata": {},
   "outputs": [
    {
     "name": "stdout",
     "output_type": "stream",
     "text": [
      "Hasil pembagian: 5.0\n",
      "Hasil perkalian: 20\n"
     ]
    }
   ],
   "source": [
    "# Contoh penggunaan:\n",
    "angka1 = 10\n",
    "ang=na2 = 2\n",
    "hasil_pembagian, hasil_perkalian = operasi_aritmetika_lain(angka1, angka2)\n",
    "print(f\"Hasil pembagian: {hasil_pembagian}\")\n",
    "print(f\"Hasil perkalian: {hasil_perkalian}\")"
   ]
  },
  {
   "cell_type": "markdown",
   "id": "99ce6dc7",
   "metadata": {},
   "source": [
    "• Nilai kembalian dari sebuah fungsi dapat disimpan dalam sebuah variabel\n",
    "• Ini yang akan membedakan sebuah fungsi yang mengembalikan nilai dengan sebuah fungsi yang tidak mengembalikan nilai(saring disebut sebagai procedur)"
   ]
  },
  {
   "cell_type": "code",
   "execution_count": 29,
   "id": "9786f576",
   "metadata": {},
   "outputs": [],
   "source": [
    "def operasi_hitung(a,b):\n",
    "    tambah = a + b\n",
    "    kali = a * b\n",
    "    bagi = a / b\n",
    "    return tambah"
   ]
  },
  {
   "cell_type": "code",
   "execution_count": 30,
   "id": "98b5af13",
   "metadata": {},
   "outputs": [
    {
     "data": {
      "text/plain": [
       "12"
      ]
     },
     "execution_count": 30,
     "metadata": {},
     "output_type": "execute_result"
    }
   ],
   "source": [
    "operasi_hitung(5,7)"
   ]
  }
 ],
 "metadata": {
  "kernelspec": {
   "display_name": "Python 3 (ipykernel)",
   "language": "python",
   "name": "python3"
  },
  "language_info": {
   "codemirror_mode": {
    "name": "ipython",
    "version": 3
   },
   "file_extension": ".py",
   "mimetype": "text/x-python",
   "name": "python",
   "nbconvert_exporter": "python",
   "pygments_lexer": "ipython3",
   "version": "3.11.4"
  }
 },
 "nbformat": 4,
 "nbformat_minor": 5
}
