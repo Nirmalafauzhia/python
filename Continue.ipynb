{
 "cells": [
  {
   "cell_type": "markdown",
   "id": "a937b154",
   "metadata": {},
   "source": [
    "Continue"
   ]
  },
  {
   "cell_type": "code",
   "execution_count": 1,
   "id": "4307f15a",
   "metadata": {},
   "outputs": [
    {
     "name": "stdout",
     "output_type": "stream",
     "text": [
      "D\n",
      "t\n",
      " \n",
      "A\n",
      "n\n",
      "l\n",
      "y\n",
      "s\n",
      "i\n",
      "s\n"
     ]
    }
   ],
   "source": [
    "for i in \"Data Analysis\":\n",
    "    if i == \"a\":\n",
    "        continue\n",
    "    print(i)"
   ]
  },
  {
   "cell_type": "markdown",
   "id": "41578e73",
   "metadata": {},
   "source": [
    "Task 3 (buat neted loop, dengan break, continue pada if condition: if,else)"
   ]
  },
  {
   "cell_type": "code",
   "execution_count": 2,
   "id": "73c808f1",
   "metadata": {},
   "outputs": [
    {
     "name": "stdout",
     "output_type": "stream",
     "text": [
      "Karakter 'S' tidak dikenali\n",
      "Karakter 'e' tidak dikenali\n",
      "Karakter 'l' tidak dikenali\n",
      "Karakter 'a' ditemukan\n"
     ]
    }
   ],
   "source": [
    "Day = \"Selasa\"\n",
    "for char in Day:\n",
    "    if char == \"a\":\n",
    "        print(f\"Karakter 'a' ditemukan\")\n",
    "        break\n",
    "    else:\n",
    "        print(f\"Karakter '{char}' tidak dikenali\")\n",
    "        continue\n",
    "    print(f\"Pesan ini akan dicetak jika karakter adalah 'a' ditemukan\")\n"
   ]
  },
  {
   "cell_type": "code",
   "execution_count": null,
   "id": "feb53a2b",
   "metadata": {},
   "outputs": [],
   "source": []
  }
 ],
 "metadata": {
  "kernelspec": {
   "display_name": "Python 3 (ipykernel)",
   "language": "python",
   "name": "python3"
  },
  "language_info": {
   "codemirror_mode": {
    "name": "ipython",
    "version": 3
   },
   "file_extension": ".py",
   "mimetype": "text/x-python",
   "name": "python",
   "nbconvert_exporter": "python",
   "pygments_lexer": "ipython3",
   "version": "3.11.4"
  }
 },
 "nbformat": 4,
 "nbformat_minor": 5
}
