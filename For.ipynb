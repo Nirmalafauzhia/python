{
 "cells": [
  {
   "cell_type": "markdown",
   "id": "9a2f5b04",
   "metadata": {},
   "source": [
    "For\n",
    "\n"
   ]
  },
  {
   "cell_type": "code",
   "execution_count": 1,
   "id": "1f38a5ef",
   "metadata": {},
   "outputs": [
    {
     "name": "stdout",
     "output_type": "stream",
     "text": [
      "huruf d\n",
      "huruf a\n",
      "huruf t\n",
      "huruf a\n"
     ]
    }
   ],
   "source": [
    "for i in 'data':\n",
    "    print(\"huruf {}\". format(i))"
   ]
  },
  {
   "cell_type": "code",
   "execution_count": 2,
   "id": "5d8a7992",
   "metadata": {},
   "outputs": [
    {
     "name": "stdout",
     "output_type": "stream",
     "text": [
      "d\n",
      "a\n",
      "t\n",
      "a\n"
     ]
    }
   ],
   "source": [
    "for a in 'data':\n",
    "    print(a)"
   ]
  },
  {
   "cell_type": "code",
   "execution_count": 3,
   "id": "090a2e4e",
   "metadata": {},
   "outputs": [
    {
     "name": "stdout",
     "output_type": "stream",
     "text": [
      "warna merah\n",
      "warna kuning\n",
      "warna hijau\n"
     ]
    }
   ],
   "source": [
    "color = [\"merah\", \"kuning\", \"hijau\"]\n",
    "\n",
    "for i in color:\n",
    "    print(\"warna {}\".format(i))"
   ]
  },
  {
   "cell_type": "markdown",
   "id": "d3ecac5c",
   "metadata": {},
   "source": [
    "Task 2 (for loop, string, list)"
   ]
  },
  {
   "cell_type": "code",
   "execution_count": 9,
   "id": "a01b4cb9",
   "metadata": {},
   "outputs": [
    {
     "name": "stdout",
     "output_type": "stream",
     "text": [
      "huruf D\n",
      "huruf a\n",
      "huruf t\n",
      "huruf a\n",
      "huruf  \n",
      "huruf A\n",
      "huruf n\n",
      "huruf a\n",
      "huruf l\n",
      "huruf y\n",
      "huruf s\n",
      "huruf t\n"
     ]
    }
   ],
   "source": [
    "for i in 'Data Analyst' :\n",
    "    print(\"huruf {}\". format(i))"
   ]
  },
  {
   "cell_type": "code",
   "execution_count": 8,
   "id": "b0cc4b6e",
   "metadata": {},
   "outputs": [
    {
     "name": "stdout",
     "output_type": "stream",
     "text": [
      "D\n",
      "a\n",
      "t\n",
      "a\n",
      " \n",
      "A\n",
      "n\n",
      "a\n",
      "l\n",
      "y\n",
      "s\n",
      "t\n"
     ]
    }
   ],
   "source": [
    "for i in 'Data Analyst' :\n",
    "    print(i)"
   ]
  },
  {
   "cell_type": "code",
   "execution_count": 6,
   "id": "89299dbb",
   "metadata": {},
   "outputs": [
    {
     "name": "stdout",
     "output_type": "stream",
     "text": [
      "MyEduSolve Data Analyst\n",
      "MyEduSolve UI/UX\n"
     ]
    }
   ],
   "source": [
    "MyEduSolve = [\"Data Analyst\", \"UI/UX\"]\n",
    "\n",
    "for i in MyEduSolve:\n",
    "    print(\"MyEduSolve {}\".format(i))"
   ]
  },
  {
   "cell_type": "code",
   "execution_count": null,
   "id": "389e267e",
   "metadata": {},
   "outputs": [],
   "source": [
    "param"
   ]
  },
  {
   "cell_type": "code",
   "execution_count": 12,
   "id": "468cc259",
   "metadata": {},
   "outputs": [
    {
     "name": "stdout",
     "output_type": "stream",
     "text": [
      "0\n",
      "1\n",
      "2\n"
     ]
    }
   ],
   "source": [
    "for i in range(3):\n",
    "    print(i)"
   ]
  },
  {
   "cell_type": "markdown",
   "id": "d305befc",
   "metadata": {},
   "source": [
    "Task 3 (for loop, range 1 param, range 2 param)"
   ]
  },
  {
   "cell_type": "code",
   "execution_count": 10,
   "id": "ee4003b9",
   "metadata": {},
   "outputs": [
    {
     "name": "stdout",
     "output_type": "stream",
     "text": [
      "0\n",
      "1\n",
      "2\n",
      "3\n",
      "4\n",
      "5\n",
      "6\n",
      "7\n",
      "8\n"
     ]
    }
   ],
   "source": [
    "for i in range(9):\n",
    "    print(i)"
   ]
  },
  {
   "cell_type": "code",
   "execution_count": 11,
   "id": "cac927fa",
   "metadata": {},
   "outputs": [
    {
     "name": "stdout",
     "output_type": "stream",
     "text": [
      "1\n",
      "2\n",
      "3\n",
      "4\n",
      "5\n",
      "6\n",
      "7\n",
      "8\n",
      "9\n"
     ]
    }
   ],
   "source": [
    "for i in range(1,10):\n",
    "    print(i)"
   ]
  },
  {
   "cell_type": "markdown",
   "id": "dfe93837",
   "metadata": {},
   "source": [
    "for bertingkat"
   ]
  },
  {
   "cell_type": "code",
   "execution_count": 20,
   "id": "7bc2410f",
   "metadata": {},
   "outputs": [
    {
     "name": "stdout",
     "output_type": "stream",
     "text": [
      "* * * \n",
      "* * \n",
      "* \n"
     ]
    }
   ],
   "source": [
    "for row in range(3):\n",
    "    for col in range(3):\n",
    "        if row == 0 and col <= 2:\n",
    "            print(\"*\", end = \" \")\n",
    "        elif row == 1 and col <= 1:\n",
    "            print(\"*\", end = \" \")\n",
    "        elif row == 2 and col == 0:\n",
    "            print(\"*\", end = \" \")\n",
    "    print()"
   ]
  },
  {
   "cell_type": "markdown",
   "id": "b132c63a",
   "metadata": {},
   "source": [
    "task 4 (buat 4 column for bertingkat)"
   ]
  },
  {
   "cell_type": "code",
   "execution_count": 24,
   "id": "071f0b35",
   "metadata": {},
   "outputs": [
    {
     "name": "stdout",
     "output_type": "stream",
     "text": [
      "* * * * \n",
      "* * * \n",
      "* * \n",
      "* \n"
     ]
    }
   ],
   "source": [
    "for row in range(4):\n",
    "    for col in range(4):\n",
    "        if row == 0 and col <= 3:\n",
    "            print(\"*\", end = \" \")\n",
    "        elif row == 1 and col <= 2:\n",
    "            print(\"*\", end = \" \")\n",
    "        elif row == 2 and col <= 1:\n",
    "            print(\"*\", end = \" \")\n",
    "        elif row == 3 and col == 0:\n",
    "            print(\"*\", end = \" \")\n",
    "    print()"
   ]
  },
  {
   "cell_type": "markdown",
   "id": "edd431a5",
   "metadata": {},
   "source": [
    "Else setelah For\n",
    "\n",
    "Fungsi else setelah for fungsinya diutamakan pada petualangan yang bersifat pencarian - untuk memberikan jalan keluar program saat pencarian tidak ditentukan"
   ]
  },
  {
   "cell_type": "code",
   "execution_count": 1,
   "id": "19761e9d",
   "metadata": {},
   "outputs": [
    {
     "name": "stdout",
     "output_type": "stream",
     "text": [
      "1 adalah genap\n",
      "2 adalah genap\n",
      "3 adalah genap\n",
      "4 adalah genap\n",
      "5 adalah genap\n",
      "6 adalah genap\n"
     ]
    }
   ],
   "source": [
    "for i in range(1,7):\n",
    "    if i % 2 == 0:\n",
    "        print(\"{} adalah genap\".format(i))\n",
    "    else:\n",
    "        print(\"{} adalah genap\".format(i))"
   ]
  },
  {
   "cell_type": "markdown",
   "id": "163f3ceb",
   "metadata": {},
   "source": [
    "task 1 (buat if condition, else, elif, dan for loop)"
   ]
  },
  {
   "cell_type": "code",
   "execution_count": 6,
   "id": "9526481e",
   "metadata": {},
   "outputs": [
    {
     "name": "stdout",
     "output_type": "stream",
     "text": [
      "1 adalah angka pertama\n",
      "2 adalah angka genap\n",
      "3 adalah angka ganjil\n",
      "4 adalah angka genap\n",
      "5 adalah angka ganjil\n"
     ]
    }
   ],
   "source": [
    "for i in range(1,6):\n",
    "    if i == 1:\n",
    "        print(\"{} adalah angka pertama\".format(i))\n",
    "    elif i % 2 == 0:\n",
    "        print(\"{} adalah angka genap\".format(i))\n",
    "    else:\n",
    "        print(\"{} adalah angka ganjil\".format(i))"
   ]
  }
 ],
 "metadata": {
  "kernelspec": {
   "display_name": "Python 3 (ipykernel)",
   "language": "python",
   "name": "python3"
  },
  "language_info": {
   "codemirror_mode": {
    "name": "ipython",
    "version": 3
   },
   "file_extension": ".py",
   "mimetype": "text/x-python",
   "name": "python",
   "nbconvert_exporter": "python",
   "pygments_lexer": "ipython3",
   "version": "3.11.4"
  }
 },
 "nbformat": 4,
 "nbformat_minor": 5
}
