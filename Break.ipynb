{
 "cells": [
  {
   "cell_type": "markdown",
   "id": "1ca6386f",
   "metadata": {},
   "source": [
    "Break\n",
    "\n"
   ]
  },
  {
   "cell_type": "code",
   "execution_count": 1,
   "id": "b4e3ab3c",
   "metadata": {},
   "outputs": [
    {
     "name": "stdout",
     "output_type": "stream",
     "text": [
      "D\n",
      "a\n",
      "t\n",
      "a\n"
     ]
    }
   ],
   "source": [
    "for i in \"Data Science\":\n",
    "    if i == \" \":\n",
    "        break\n",
    "    print(i)"
   ]
  },
  {
   "cell_type": "code",
   "execution_count": null,
   "id": "701a6511",
   "metadata": {},
   "outputs": [],
   "source": [
    "Task 2(buat break, dengan if condition:else,elif)"
   ]
  },
  {
   "cell_type": "code",
   "execution_count": 25,
   "id": "de834d5e",
   "metadata": {},
   "outputs": [
    {
     "name": "stdout",
     "output_type": "stream",
     "text": [
      "Senin adalah hari kerja.\n",
      "Selasa adalah hari kerja.\n",
      "Rabu adalah hari kerja.\n",
      "Kamis adalah hari kerja.\n",
      "Jumat ditemukan!\n"
     ]
    }
   ],
   "source": [
    "days_of_week = [\"Senin\", \"Selasa\", \"Rabu\", \"Kamis\", \"Jumat\", \"Sabtu\", \"Minggu\"]\n",
    "target_day = \"Jumat\"\n",
    "\n",
    "for day in days_of_week:\n",
    "    if day == target_day:\n",
    "        print(f\"{target_day} ditemukan!\")\n",
    "        break\n",
    "    elif day == \"Sabtu\" or day == \"Minggu\":\n",
    "        print(f\"{day} adalah hari libur.\")\n",
    "    else:\n",
    "        print(f\"{day} adalah hari kerja.\")\n"
   ]
  },
  {
   "cell_type": "code",
   "execution_count": 27,
   "id": "a19ac788",
   "metadata": {},
   "outputs": [
    {
     "name": "stdout",
     "output_type": "stream",
     "text": [
      "D\n",
      "t\n",
      " \n",
      "A\n",
      "n\n",
      "l\n",
      "y\n",
      "s\n",
      "i\n",
      "s\n"
     ]
    }
   ],
   "source": [
    "for i in \"Data Analysis\":\n",
    "    if i == \"a\":\n",
    "        continue\n",
    "    print(i)"
   ]
  },
  {
   "cell_type": "markdown",
   "id": "19be3413",
   "metadata": {},
   "source": [
    "Task 3 (buat neted loop, dengan break, continue pada if condition: if,else)"
   ]
  },
  {
   "cell_type": "code",
   "execution_count": 44,
   "id": "048eed7c",
   "metadata": {},
   "outputs": [
    {
     "name": "stdout",
     "output_type": "stream",
     "text": [
      "Karakter 'S' tidak dikenali\n",
      "Karakter 'e' tidak dikenali\n",
      "Karakter 'l' tidak dikenali\n",
      "Karakter 'a' ditemukan\n"
     ]
    }
   ],
   "source": [
    "Day = \"Selasa\"\n",
    "for char in Day:\n",
    "    if char == \"a\":\n",
    "        print(f\"Karakter 'a' ditemukan\")\n",
    "        break\n",
    "    else:\n",
    "        print(f\"Karakter '{char}' tidak dikenali\")\n",
    "        continue\n",
    "    print(f\"Pesan ini akan dicetak jika karakter adalah 'a' ditemukan\")\n"
   ]
  }
 ],
 "metadata": {
  "kernelspec": {
   "display_name": "Python 3 (ipykernel)",
   "language": "python",
   "name": "python3"
  },
  "language_info": {
   "codemirror_mode": {
    "name": "ipython",
    "version": 3
   },
   "file_extension": ".py",
   "mimetype": "text/x-python",
   "name": "python",
   "nbconvert_exporter": "python",
   "pygments_lexer": "ipython3",
   "version": "3.11.4"
  }
 },
 "nbformat": 4,
 "nbformat_minor": 5
}
